{
 "cells": [
  {
   "cell_type": "code",
   "execution_count": 2,
   "id": "2e122726-241c-4db6-9801-27d1c756b8b4",
   "metadata": {},
   "outputs": [],
   "source": [
    "import os\n",
    "import os.path as path\n",
    "import re\n",
    "from enum import Enum\n",
    "\n",
    "import numpy as np\n",
    "import matplotlib as mpl\n",
    "import matplotlib.pyplot as plt\n",
    "from matplotlib.collections import PatchCollection\n",
    "import matplotlib.colors as mcolors\n",
    "from matplotlib.patches import Rectangle\n",
    "import matplotlib.patheffects as PathEffects\n",
    "import pandas as pd\n",
    "import seaborn as sns\n",
    "\n",
    "from tqdm.notebook import tqdm\n",
    "# tqdm.pandas(desc='Processing Dataframe', leave=False, position=1)\n",
    "import tafra\n",
    "import ptitprince as pt\n",
    "\n",
    "mpl.style.use('seaborn')\n",
    "# %matplotlib notebook\n",
    "# xkcd-colors: https://matplotlib.org/stable/_images/sphx_glr_colors_003.png"
   ]
  },
  {
   "cell_type": "code",
   "execution_count": 3,
   "id": "eb348eae-6054-48ab-a742-dd8a18fa5632",
   "metadata": {},
   "outputs": [],
   "source": [
    "participant_survey_file = './participant_survey.csv'\n",
    "column_mapping = {\n",
    "    'Subject Information [Subject ID]' : 'SubjectId',\n",
    "    'Do you feel like you had enough training time with the simulated phosphene vision and the different conditions?  Use the comment box to add an explanation / details. '\n",
    "    'Order in which conditions occured [Rank 1]' : \"1stCondition\",\n",
    "    'Order in which conditions occured [Rank 2]' : \"2ndCondition\",\n",
    "    'Order in which conditions occured [Rank 3]' : \"3rdCondition\",\n",
    "    'Rate the conditions in regard to how well you could navigate in each of them from 1 to 5. A lower number indicates you had a harder time navigating in it.  [1st trial / condition of this block]' : \"1stNavRating\",\n",
    "    'Rate the conditions in regard to how well you could navigate in each of them from 1 to 5. A lower number indicates you had a harder time navigating in it.  [2nd trial / condition of this block]' : \"2ndNavRating\",\n",
    "    'Rate the conditions in regard to how well you could navigate in each of them from 1 to 5. A lower number indicates you had a harder time navigating in it.  [3rd trial / condition of this block]' : \"3rdNavRating\",\n",
    "    'Which condition do you think you performed best in?' : \"BestCondition\",\n",
    "    'Select all conditions that you experienced nausea or motion sickness in. [1st trial / condition of this block]' : \"1stNausea\",\n",
    "    'Select all conditions that you experienced nausea or motion sickness in. [2nd trial / condition of this block]' : \"2ndNausea\",\n",
    "    'Select all conditions that you experienced nausea or motion sickness in. [3rd trial / condition of this block]' : \"3rdNausea\",\n",
    "    'Rank the conditions in order of how tiring they were, with the least tiring at the top and most tiring at the bottom. [Rank 1]' : \"1stTiring\",\n",
    "    'Rank the conditions in order of how tiring they were, with the least tiring at the top and most tiring at the bottom. [Rank 2]' : \"2ndTiring\",\n",
    "    'Rank the conditions in order of how tiring they were, with the least tiring at the top and most tiring at the bottom. [Rank 3]' : \"3rdTiring\",\n",
    "    'Rank the conditions in order of comfort, with the most comfortable at the top and least comfortable at the bottom. [Rank 1]' : \"1stComfort\",\n",
    "    'Rank the conditions in order of comfort, with the most comfortable at the top and least comfortable at the bottom. [Rank 2]' : \"2ndComfort\",\n",
    "    'Rank the conditions in order of comfort, with the most comfortable at the top and least comfortable at the bottom. [Rank 3]' : \"3rdComfort\",\n",
    "    'Mark how much you feel the statement applies to you right now. [I feel tired / distracted]' : \"Tired_Distracted\",\n",
    "    'Mark how much you feel the statement applies to you right now. [I can concentrate]' : \"Concentration\",\n",
    "    'Order the conditions in the order they appeared in this block, with the first condition at the top and the last condition at the bottom: [Rank 1]' : \"1stConditionSubj\",\n",
    "    'Order the conditions in the order they appeared in this block, with the first condition at the top and the last condition at the bottom: [Rank 2]' : \"2ndConditionSubj\",\n",
    "    'Order the conditions in the order they appeared in this block, with the first condition at the top and the last condition at the bottom: [Rank 3]' : \"3rdConditionSubj\",\n",
    "    'Anything else you would like to note about this block? (e.g. technical issues, notable pysical or emotional reactions, anything you would have liked to add to the previous questions, ...)' : \"Comments\"\n",
    "}"
   ]
  },
  {
   "cell_type": "code",
   "execution_count": 4,
   "id": "9ca12fed-d1cb-46bf-b954-90746c7be280",
   "metadata": {},
   "outputs": [
    {
     "name": "stdout",
     "output_type": "stream",
     "text": [
      "'Subject Information [Subject ID]' : Subject ID\n",
      "'Do you feel like you had enough training time with the simulated phosphene vision and the different conditions?  Use the comment box to add an explanation / details. ' : Do you feel like you had enough training time with the simulated phosphene vision and the different conditions?  Use the comment box to add an explanation / details.\n",
      "'Do you feel like you had enough training time with the simulated phosphene vision and the different conditions?  Use the comment box to add an explanation / details.  [Comment]' : Comment\n",
      "'Did you feel like you were still getting better throughout the trials in interpreting the simulated phosphene vision?  Use the comment box to add an explanation / details. ' : Did you feel like you were still getting better throughout the trials in interpreting the simulated phosphene vision?  Use the comment box to add an explanation / details.\n",
      "'Did you feel like you were still getting better throughout the trials in interpreting the simulated phosphene vision?  Use the comment box to add an explanation / details.  [Comment]' : Comment\n",
      "'Can you indicate whether you used any particular strategies to navigate? Use the comment box for any added information (e.g. only in specific conditions, specifications)  [relied on hands for specific parts (which?)]' : relied on hands for specific parts (which?)\n",
      "'Can you indicate whether you used any particular strategies to navigate? Use the comment box for any added information (e.g. only in specific conditions, specifications)  [relied on hands for specific parts (which?)][Comment]' : Comment\n",
      "'Can you indicate whether you used any particular strategies to navigate? Use the comment box for any added information (e.g. only in specific conditions, specifications)  [exaggerated or rhythmic head movements]' : exaggerated or rhythmic head movements\n",
      "'Can you indicate whether you used any particular strategies to navigate? Use the comment box for any added information (e.g. only in specific conditions, specifications)  [exaggerated or rhythmic head movements][Comment]' : Comment\n",
      "'Can you indicate whether you used any particular strategies to navigate? Use the comment box for any added information (e.g. only in specific conditions, specifications)  [estimating depth by moving sideways]' : estimating depth by moving sideways\n",
      "'Can you indicate whether you used any particular strategies to navigate? Use the comment box for any added information (e.g. only in specific conditions, specifications)  [estimating depth by moving sideways][Comment]' : Comment\n",
      "'Can you indicate whether you used any particular strategies to navigate? Use the comment box for any added information (e.g. only in specific conditions, specifications)  [estimating boundaries with the center most pixels/phosphenes]' : estimating boundaries with the center most pixels/phosphenes\n",
      "'Can you indicate whether you used any particular strategies to navigate? Use the comment box for any added information (e.g. only in specific conditions, specifications)  [estimating boundaries with the center most pixels/phosphenes][Comment]' : Comment\n",
      "'Can you indicate whether you used any particular strategies to navigate? Use the comment box for any added information (e.g. only in specific conditions, specifications)  [estimating boundaries with the outer/peripheral pixels/phosphenes]' : estimating boundaries with the outer/peripheral pixels/phosphenes\n",
      "'Can you indicate whether you used any particular strategies to navigate? Use the comment box for any added information (e.g. only in specific conditions, specifications)  [estimating boundaries with the outer/peripheral pixels/phosphenes][Comment]' : Comment\n",
      "'Can you indicate whether you used any particular strategies to navigate? Use the comment box for any added information (e.g. only in specific conditions, specifications)  [ sticking to the walls]' :  sticking to the walls\n",
      "'Can you indicate whether you used any particular strategies to navigate? Use the comment box for any added information (e.g. only in specific conditions, specifications)  [ sticking to the walls][Comment]' : Comment\n",
      "'Can you indicate whether you used any particular strategies to navigate? Use the comment box for any added information (e.g. only in specific conditions, specifications)  [ moving straight-forward with as little sideway movement as possible]' :  moving straight-forward with as little sideway movement as possible\n",
      "'Can you indicate whether you used any particular strategies to navigate? Use the comment box for any added information (e.g. only in specific conditions, specifications)  [ moving straight-forward with as little sideway movement as possible][Comment]' : Comment\n",
      "'Can you indicate whether you used any particular strategies to navigate? Use the comment box for any added information (e.g. only in specific conditions, specifications)  [Other]' : Other\n",
      "'Can you indicate whether you used any particular strategies to navigate? Use the comment box for any added information (e.g. only in specific conditions, specifications)  [Other comment]' : Other comment\n",
      "'Did your strategies change throughout the experiment? If so, can you explain why? ' : Did your strategies change throughout the experiment? If so, can you explain why?\n",
      "'Did your strategies change throughout the experiment? If so, can you explain why?  [Comment]' : Comment\n",
      "'How used to / comfortable with using controllers are you? With a 1 being unfamiliar with controllers and 5 being controllers feeling natural to use to you.' : How used to / comfortable with using controllers are you? With a 1 being unfamiliar with controllers and 5 being controllers feeling natural to use to you\n",
      "'How often have you used a virtual reality headset before? (e.g. HTC Vive, Oculus Quest, Google Cardboard, Oculus Rift, ...)' : How often have you used a virtual reality headset before? (e.g. HTC Vive, Oculus Quest, Google Cardboard, Oculus Rift, ...\n",
      "'Did you ever use the HTC Vive Wands (the controllers used in the experiment before)?' : Did you ever use the HTC Vive Wands (the controllers used in the experiment before)\n",
      "'Do you experience motion sickness regularly? (e.g. on the bus / train, while driving, in other VR environments, ...)' : Do you experience motion sickness regularly? (e.g. on the bus / train, while driving, in other VR environments, ...\n",
      "'Did you participate in any phosphene vision experiment or demo before?' : Did you participate in any phosphene vision experiment or demo before\n",
      "'How old are you?' : How old are you\n",
      "'What sex were you assigned at birth / what is on your birth certificate?' : What sex were you assigned at birth / what is on your birth certificate\n",
      "'Pick the gender identity that best describes you currently' : Pick the gender identity that best describes you currentl\n",
      "'How tall are you? (in cm)' : How tall are you? (in cm\n"
     ]
    },
    {
     "data": {
      "text/plain": [
       "[None,\n",
       " None,\n",
       " None,\n",
       " None,\n",
       " None,\n",
       " None,\n",
       " None,\n",
       " None,\n",
       " None,\n",
       " None,\n",
       " None,\n",
       " None,\n",
       " None,\n",
       " None,\n",
       " None,\n",
       " None,\n",
       " None,\n",
       " None,\n",
       " None,\n",
       " None,\n",
       " None,\n",
       " None,\n",
       " None,\n",
       " None,\n",
       " None,\n",
       " None,\n",
       " None,\n",
       " None,\n",
       " None,\n",
       " None,\n",
       " None,\n",
       " None]"
      ]
     },
     "execution_count": 4,
     "metadata": {},
     "output_type": "execute_result"
    }
   ],
   "source": [
    "df = pd.read_csv(participant_survey_file, sep='\\t')\n",
    "# df = df.rename(columns=column_mapping)\n",
    "# df.set_index(['SubjectId', 'Block'], inplace=True)\n",
    "# df = df.replace(to_replace = {\"Condition A (eye movement ignored)\" : \"Gaze Ignored\",\n",
    "#                     \"Condition B (locked to your focus point)\" : \"Gaze Locked\",\n",
    "#                     \"Condition C (eye movement to scan the scene)\" : \"Gaze Asissted\" })\n",
    "df.head()\n",
    "[print(f\"'{c}' : {c.split('[')[-1][:-1]}\") for c in df.columns]"
   ]
  },
  {
   "cell_type": "code",
   "execution_count": null,
   "id": "73fce6b5",
   "metadata": {},
   "outputs": [],
   "source": []
  }
 ],
 "metadata": {
  "kernelspec": {
   "display_name": "Python 3.10.4 ('analysis')",
   "language": "python",
   "name": "python3"
  },
  "language_info": {
   "codemirror_mode": {
    "name": "ipython",
    "version": 3
   },
   "file_extension": ".py",
   "mimetype": "text/x-python",
   "name": "python",
   "nbconvert_exporter": "python",
   "pygments_lexer": "ipython3",
   "version": "3.10.4"
  },
  "vscode": {
   "interpreter": {
    "hash": "65169e106cc13304535035c33956142e23d9c7be249dd45fc9193cf34a1e50bd"
   }
  }
 },
 "nbformat": 4,
 "nbformat_minor": 5
}
